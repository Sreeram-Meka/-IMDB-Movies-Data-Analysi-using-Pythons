{
 "cells": [
  {
   "cell_type": "markdown",
   "id": "e1f3e6f6-0ffc-4a38-9613-a6c433db2be8",
   "metadata": {},
   "source": [
    "<h1>IMDB Movie Data Analysis Using Python</h1>\n"
   ]
  },
  {
   "cell_type": "markdown",
   "id": "2d73242a-993b-47ee-845d-2e2eb7a61ca2",
   "metadata": {},
   "source": [
    "<p><strong>Analysis of 1000 IMDB Movies</strong></p>\n",
    "<p><strong>Tools Used:</strong> Jupyter Notebook</p>\n",
    "<p><strong>Libraries Used :</strong>Pandas, Seaborn, Matplotlib</p>"
   ]
  },
  {
   "cell_type": "markdown",
   "id": "1088adbe-329a-4422-8dc6-c26cdc0623fb",
   "metadata": {},
   "source": [
    "<h4>Import all Required Libraries for Visualisation</h4>"
   ]
  },
  {
   "cell_type": "code",
   "execution_count": 146,
   "id": "768b2757-1ab7-411d-b955-ade658a9b150",
   "metadata": {},
   "outputs": [],
   "source": [
    "import numpy as np\n",
    "import pandas as pd\n",
    "import matplotlib.pyplot as plt\n",
    "import seaborn as sns"
   ]
  },
  {
   "cell_type": "markdown",
   "id": "a70445ff-a111-4164-89a1-60a6fb28e48f",
   "metadata": {},
   "source": [
    "<h4>Reading the imdb.csv as a data frame into df variable</h4>"
   ]
  },
  {
   "cell_type": "code",
   "execution_count": 147,
   "id": "0df983e4-c2bf-4ddf-8452-553802534473",
   "metadata": {},
   "outputs": [
    {
     "data": {
      "text/plain": [
       "Index(['Poster_Link', 'Series_Title', 'Released_Year', 'Certificate',\n",
       "       'Runtime', 'Genre', 'IMDB_Rating', 'Overview', 'Meta_score', 'Director',\n",
       "       'Star1', 'Star2', 'Star3', 'Star4', 'No_of_Votes', 'Gross'],\n",
       "      dtype='object')"
      ]
     },
     "execution_count": 147,
     "metadata": {},
     "output_type": "execute_result"
    }
   ],
   "source": [
    "df=pd.read_csv(\"imdb.csv\")\n",
    "df.columns"
   ]
  },
  {
   "cell_type": "code",
   "execution_count": 148,
   "id": "370a0789-25e6-4153-93aa-a84c1b98b749",
   "metadata": {},
   "outputs": [
    {
     "data": {
      "text/html": [
       "<div>\n",
       "<style scoped>\n",
       "    .dataframe tbody tr th:only-of-type {\n",
       "        vertical-align: middle;\n",
       "    }\n",
       "\n",
       "    .dataframe tbody tr th {\n",
       "        vertical-align: top;\n",
       "    }\n",
       "\n",
       "    .dataframe thead th {\n",
       "        text-align: right;\n",
       "    }\n",
       "</style>\n",
       "<table border=\"1\" class=\"dataframe\">\n",
       "  <thead>\n",
       "    <tr style=\"text-align: right;\">\n",
       "      <th></th>\n",
       "      <th>Poster_Link</th>\n",
       "      <th>Series_Title</th>\n",
       "      <th>Released_Year</th>\n",
       "      <th>Certificate</th>\n",
       "      <th>Runtime</th>\n",
       "      <th>Genre</th>\n",
       "      <th>IMDB_Rating</th>\n",
       "      <th>Overview</th>\n",
       "      <th>Meta_score</th>\n",
       "      <th>Director</th>\n",
       "      <th>Star1</th>\n",
       "      <th>Star2</th>\n",
       "      <th>Star3</th>\n",
       "      <th>Star4</th>\n",
       "      <th>No_of_Votes</th>\n",
       "      <th>Gross</th>\n",
       "    </tr>\n",
       "  </thead>\n",
       "  <tbody>\n",
       "    <tr>\n",
       "      <th>0</th>\n",
       "      <td>https://m.media-amazon.com/images/M/MV5BMDFkYT...</td>\n",
       "      <td>The Shawshank Redemption</td>\n",
       "      <td>1994</td>\n",
       "      <td>A</td>\n",
       "      <td>142 min</td>\n",
       "      <td>Drama</td>\n",
       "      <td>9.3</td>\n",
       "      <td>Two imprisoned men bond over a number of years...</td>\n",
       "      <td>80.0</td>\n",
       "      <td>Frank Darabont</td>\n",
       "      <td>Tim Robbins</td>\n",
       "      <td>Morgan Freeman</td>\n",
       "      <td>Bob Gunton</td>\n",
       "      <td>William Sadler</td>\n",
       "      <td>2343110</td>\n",
       "      <td>28,341,469</td>\n",
       "    </tr>\n",
       "    <tr>\n",
       "      <th>1</th>\n",
       "      <td>https://m.media-amazon.com/images/M/MV5BM2MyNj...</td>\n",
       "      <td>The Godfather</td>\n",
       "      <td>1972</td>\n",
       "      <td>A</td>\n",
       "      <td>175 min</td>\n",
       "      <td>Crime, Drama</td>\n",
       "      <td>9.2</td>\n",
       "      <td>An organized crime dynasty's aging patriarch t...</td>\n",
       "      <td>100.0</td>\n",
       "      <td>Francis Ford Coppola</td>\n",
       "      <td>Marlon Brando</td>\n",
       "      <td>Al Pacino</td>\n",
       "      <td>James Caan</td>\n",
       "      <td>Diane Keaton</td>\n",
       "      <td>1620367</td>\n",
       "      <td>134,966,411</td>\n",
       "    </tr>\n",
       "    <tr>\n",
       "      <th>2</th>\n",
       "      <td>https://m.media-amazon.com/images/M/MV5BMTMxNT...</td>\n",
       "      <td>The Dark Knight</td>\n",
       "      <td>2008</td>\n",
       "      <td>UA</td>\n",
       "      <td>152 min</td>\n",
       "      <td>Action, Crime, Drama</td>\n",
       "      <td>9.0</td>\n",
       "      <td>When the menace known as the Joker wreaks havo...</td>\n",
       "      <td>84.0</td>\n",
       "      <td>Christopher Nolan</td>\n",
       "      <td>Christian Bale</td>\n",
       "      <td>Heath Ledger</td>\n",
       "      <td>Aaron Eckhart</td>\n",
       "      <td>Michael Caine</td>\n",
       "      <td>2303232</td>\n",
       "      <td>534,858,444</td>\n",
       "    </tr>\n",
       "    <tr>\n",
       "      <th>3</th>\n",
       "      <td>https://m.media-amazon.com/images/M/MV5BMWMwMG...</td>\n",
       "      <td>The Godfather: Part II</td>\n",
       "      <td>1974</td>\n",
       "      <td>A</td>\n",
       "      <td>202 min</td>\n",
       "      <td>Crime, Drama</td>\n",
       "      <td>9.0</td>\n",
       "      <td>The early life and career of Vito Corleone in ...</td>\n",
       "      <td>90.0</td>\n",
       "      <td>Francis Ford Coppola</td>\n",
       "      <td>Al Pacino</td>\n",
       "      <td>Robert De Niro</td>\n",
       "      <td>Robert Duvall</td>\n",
       "      <td>Diane Keaton</td>\n",
       "      <td>1129952</td>\n",
       "      <td>57,300,000</td>\n",
       "    </tr>\n",
       "    <tr>\n",
       "      <th>4</th>\n",
       "      <td>https://m.media-amazon.com/images/M/MV5BMWU4N2...</td>\n",
       "      <td>12 Angry Men</td>\n",
       "      <td>1957</td>\n",
       "      <td>U</td>\n",
       "      <td>96 min</td>\n",
       "      <td>Crime, Drama</td>\n",
       "      <td>9.0</td>\n",
       "      <td>A jury holdout attempts to prevent a miscarria...</td>\n",
       "      <td>96.0</td>\n",
       "      <td>Sidney Lumet</td>\n",
       "      <td>Henry Fonda</td>\n",
       "      <td>Lee J. Cobb</td>\n",
       "      <td>Martin Balsam</td>\n",
       "      <td>John Fiedler</td>\n",
       "      <td>689845</td>\n",
       "      <td>4,360,000</td>\n",
       "    </tr>\n",
       "  </tbody>\n",
       "</table>\n",
       "</div>"
      ],
      "text/plain": [
       "                                         Poster_Link  \\\n",
       "0  https://m.media-amazon.com/images/M/MV5BMDFkYT...   \n",
       "1  https://m.media-amazon.com/images/M/MV5BM2MyNj...   \n",
       "2  https://m.media-amazon.com/images/M/MV5BMTMxNT...   \n",
       "3  https://m.media-amazon.com/images/M/MV5BMWMwMG...   \n",
       "4  https://m.media-amazon.com/images/M/MV5BMWU4N2...   \n",
       "\n",
       "               Series_Title Released_Year Certificate  Runtime  \\\n",
       "0  The Shawshank Redemption          1994           A  142 min   \n",
       "1             The Godfather          1972           A  175 min   \n",
       "2           The Dark Knight          2008          UA  152 min   \n",
       "3    The Godfather: Part II          1974           A  202 min   \n",
       "4              12 Angry Men          1957           U   96 min   \n",
       "\n",
       "                  Genre  IMDB_Rating  \\\n",
       "0                 Drama          9.3   \n",
       "1          Crime, Drama          9.2   \n",
       "2  Action, Crime, Drama          9.0   \n",
       "3          Crime, Drama          9.0   \n",
       "4          Crime, Drama          9.0   \n",
       "\n",
       "                                            Overview  Meta_score  \\\n",
       "0  Two imprisoned men bond over a number of years...        80.0   \n",
       "1  An organized crime dynasty's aging patriarch t...       100.0   \n",
       "2  When the menace known as the Joker wreaks havo...        84.0   \n",
       "3  The early life and career of Vito Corleone in ...        90.0   \n",
       "4  A jury holdout attempts to prevent a miscarria...        96.0   \n",
       "\n",
       "               Director           Star1           Star2          Star3  \\\n",
       "0        Frank Darabont     Tim Robbins  Morgan Freeman     Bob Gunton   \n",
       "1  Francis Ford Coppola   Marlon Brando       Al Pacino     James Caan   \n",
       "2     Christopher Nolan  Christian Bale    Heath Ledger  Aaron Eckhart   \n",
       "3  Francis Ford Coppola       Al Pacino  Robert De Niro  Robert Duvall   \n",
       "4          Sidney Lumet     Henry Fonda     Lee J. Cobb  Martin Balsam   \n",
       "\n",
       "            Star4  No_of_Votes        Gross  \n",
       "0  William Sadler      2343110   28,341,469  \n",
       "1    Diane Keaton      1620367  134,966,411  \n",
       "2   Michael Caine      2303232  534,858,444  \n",
       "3    Diane Keaton      1129952   57,300,000  \n",
       "4    John Fiedler       689845    4,360,000  "
      ]
     },
     "execution_count": 148,
     "metadata": {},
     "output_type": "execute_result"
    }
   ],
   "source": [
    "df.head()"
   ]
  },
  {
   "cell_type": "code",
   "execution_count": 149,
   "id": "014e0529-a1ea-45ee-add1-5040aefdc545",
   "metadata": {},
   "outputs": [
    {
     "data": {
      "text/plain": [
       "(1000, 16)"
      ]
     },
     "execution_count": 149,
     "metadata": {},
     "output_type": "execute_result"
    }
   ],
   "source": [
    "df.shape"
   ]
  },
  {
   "cell_type": "code",
   "execution_count": 150,
   "id": "ebeaab03-5e7d-4642-bb7e-a8a5055cf211",
   "metadata": {},
   "outputs": [
    {
     "name": "stdout",
     "output_type": "stream",
     "text": [
      "<class 'pandas.core.frame.DataFrame'>\n",
      "RangeIndex: 1000 entries, 0 to 999\n",
      "Data columns (total 16 columns):\n",
      " #   Column         Non-Null Count  Dtype  \n",
      "---  ------         --------------  -----  \n",
      " 0   Poster_Link    1000 non-null   object \n",
      " 1   Series_Title   1000 non-null   object \n",
      " 2   Released_Year  1000 non-null   object \n",
      " 3   Certificate    899 non-null    object \n",
      " 4   Runtime        1000 non-null   object \n",
      " 5   Genre          1000 non-null   object \n",
      " 6   IMDB_Rating    1000 non-null   float64\n",
      " 7   Overview       1000 non-null   object \n",
      " 8   Meta_score     843 non-null    float64\n",
      " 9   Director       1000 non-null   object \n",
      " 10  Star1          1000 non-null   object \n",
      " 11  Star2          1000 non-null   object \n",
      " 12  Star3          1000 non-null   object \n",
      " 13  Star4          1000 non-null   object \n",
      " 14  No_of_Votes    1000 non-null   int64  \n",
      " 15  Gross          831 non-null    object \n",
      "dtypes: float64(2), int64(1), object(13)\n",
      "memory usage: 125.1+ KB\n"
     ]
    }
   ],
   "source": [
    "df.info()"
   ]
  },
  {
   "cell_type": "markdown",
   "id": "0fbd4601-9587-48b6-b597-5f4f28311d86",
   "metadata": {},
   "source": [
    "<h4>Identifying and Removing Unused Columns</h4>"
   ]
  },
  {
   "cell_type": "code",
   "execution_count": 151,
   "id": "302c0819-95aa-46cd-9f44-20de43dbea29",
   "metadata": {},
   "outputs": [
    {
     "data": {
      "text/html": [
       "<div>\n",
       "<style scoped>\n",
       "    .dataframe tbody tr th:only-of-type {\n",
       "        vertical-align: middle;\n",
       "    }\n",
       "\n",
       "    .dataframe tbody tr th {\n",
       "        vertical-align: top;\n",
       "    }\n",
       "\n",
       "    .dataframe thead th {\n",
       "        text-align: right;\n",
       "    }\n",
       "</style>\n",
       "<table border=\"1\" class=\"dataframe\">\n",
       "  <thead>\n",
       "    <tr style=\"text-align: right;\">\n",
       "      <th></th>\n",
       "      <th>Series_Title</th>\n",
       "      <th>Released_Year</th>\n",
       "      <th>Certificate</th>\n",
       "      <th>Runtime</th>\n",
       "      <th>Genre</th>\n",
       "      <th>IMDB_Rating</th>\n",
       "      <th>Meta_score</th>\n",
       "      <th>Director</th>\n",
       "      <th>No_of_Votes</th>\n",
       "      <th>Gross</th>\n",
       "    </tr>\n",
       "  </thead>\n",
       "  <tbody>\n",
       "    <tr>\n",
       "      <th>0</th>\n",
       "      <td>The Shawshank Redemption</td>\n",
       "      <td>1994</td>\n",
       "      <td>A</td>\n",
       "      <td>142 min</td>\n",
       "      <td>Drama</td>\n",
       "      <td>9.3</td>\n",
       "      <td>80.0</td>\n",
       "      <td>Frank Darabont</td>\n",
       "      <td>2343110</td>\n",
       "      <td>28,341,469</td>\n",
       "    </tr>\n",
       "    <tr>\n",
       "      <th>1</th>\n",
       "      <td>The Godfather</td>\n",
       "      <td>1972</td>\n",
       "      <td>A</td>\n",
       "      <td>175 min</td>\n",
       "      <td>Crime, Drama</td>\n",
       "      <td>9.2</td>\n",
       "      <td>100.0</td>\n",
       "      <td>Francis Ford Coppola</td>\n",
       "      <td>1620367</td>\n",
       "      <td>134,966,411</td>\n",
       "    </tr>\n",
       "    <tr>\n",
       "      <th>2</th>\n",
       "      <td>The Dark Knight</td>\n",
       "      <td>2008</td>\n",
       "      <td>UA</td>\n",
       "      <td>152 min</td>\n",
       "      <td>Action, Crime, Drama</td>\n",
       "      <td>9.0</td>\n",
       "      <td>84.0</td>\n",
       "      <td>Christopher Nolan</td>\n",
       "      <td>2303232</td>\n",
       "      <td>534,858,444</td>\n",
       "    </tr>\n",
       "    <tr>\n",
       "      <th>3</th>\n",
       "      <td>The Godfather: Part II</td>\n",
       "      <td>1974</td>\n",
       "      <td>A</td>\n",
       "      <td>202 min</td>\n",
       "      <td>Crime, Drama</td>\n",
       "      <td>9.0</td>\n",
       "      <td>90.0</td>\n",
       "      <td>Francis Ford Coppola</td>\n",
       "      <td>1129952</td>\n",
       "      <td>57,300,000</td>\n",
       "    </tr>\n",
       "    <tr>\n",
       "      <th>4</th>\n",
       "      <td>12 Angry Men</td>\n",
       "      <td>1957</td>\n",
       "      <td>U</td>\n",
       "      <td>96 min</td>\n",
       "      <td>Crime, Drama</td>\n",
       "      <td>9.0</td>\n",
       "      <td>96.0</td>\n",
       "      <td>Sidney Lumet</td>\n",
       "      <td>689845</td>\n",
       "      <td>4,360,000</td>\n",
       "    </tr>\n",
       "    <tr>\n",
       "      <th>...</th>\n",
       "      <td>...</td>\n",
       "      <td>...</td>\n",
       "      <td>...</td>\n",
       "      <td>...</td>\n",
       "      <td>...</td>\n",
       "      <td>...</td>\n",
       "      <td>...</td>\n",
       "      <td>...</td>\n",
       "      <td>...</td>\n",
       "      <td>...</td>\n",
       "    </tr>\n",
       "    <tr>\n",
       "      <th>995</th>\n",
       "      <td>Breakfast at Tiffany's</td>\n",
       "      <td>1961</td>\n",
       "      <td>A</td>\n",
       "      <td>115 min</td>\n",
       "      <td>Comedy, Drama, Romance</td>\n",
       "      <td>7.6</td>\n",
       "      <td>76.0</td>\n",
       "      <td>Blake Edwards</td>\n",
       "      <td>166544</td>\n",
       "      <td>NaN</td>\n",
       "    </tr>\n",
       "    <tr>\n",
       "      <th>996</th>\n",
       "      <td>Giant</td>\n",
       "      <td>1956</td>\n",
       "      <td>G</td>\n",
       "      <td>201 min</td>\n",
       "      <td>Drama, Western</td>\n",
       "      <td>7.6</td>\n",
       "      <td>84.0</td>\n",
       "      <td>George Stevens</td>\n",
       "      <td>34075</td>\n",
       "      <td>NaN</td>\n",
       "    </tr>\n",
       "    <tr>\n",
       "      <th>997</th>\n",
       "      <td>From Here to Eternity</td>\n",
       "      <td>1953</td>\n",
       "      <td>Passed</td>\n",
       "      <td>118 min</td>\n",
       "      <td>Drama, Romance, War</td>\n",
       "      <td>7.6</td>\n",
       "      <td>85.0</td>\n",
       "      <td>Fred Zinnemann</td>\n",
       "      <td>43374</td>\n",
       "      <td>30,500,000</td>\n",
       "    </tr>\n",
       "    <tr>\n",
       "      <th>998</th>\n",
       "      <td>Lifeboat</td>\n",
       "      <td>1944</td>\n",
       "      <td>NaN</td>\n",
       "      <td>97 min</td>\n",
       "      <td>Drama, War</td>\n",
       "      <td>7.6</td>\n",
       "      <td>78.0</td>\n",
       "      <td>Alfred Hitchcock</td>\n",
       "      <td>26471</td>\n",
       "      <td>NaN</td>\n",
       "    </tr>\n",
       "    <tr>\n",
       "      <th>999</th>\n",
       "      <td>The 39 Steps</td>\n",
       "      <td>1935</td>\n",
       "      <td>NaN</td>\n",
       "      <td>86 min</td>\n",
       "      <td>Crime, Mystery, Thriller</td>\n",
       "      <td>7.6</td>\n",
       "      <td>93.0</td>\n",
       "      <td>Alfred Hitchcock</td>\n",
       "      <td>51853</td>\n",
       "      <td>NaN</td>\n",
       "    </tr>\n",
       "  </tbody>\n",
       "</table>\n",
       "<p>1000 rows × 10 columns</p>\n",
       "</div>"
      ],
      "text/plain": [
       "                 Series_Title Released_Year Certificate  Runtime  \\\n",
       "0    The Shawshank Redemption          1994           A  142 min   \n",
       "1               The Godfather          1972           A  175 min   \n",
       "2             The Dark Knight          2008          UA  152 min   \n",
       "3      The Godfather: Part II          1974           A  202 min   \n",
       "4                12 Angry Men          1957           U   96 min   \n",
       "..                        ...           ...         ...      ...   \n",
       "995    Breakfast at Tiffany's          1961           A  115 min   \n",
       "996                     Giant          1956           G  201 min   \n",
       "997     From Here to Eternity          1953      Passed  118 min   \n",
       "998                  Lifeboat          1944         NaN   97 min   \n",
       "999              The 39 Steps          1935         NaN   86 min   \n",
       "\n",
       "                        Genre  IMDB_Rating  Meta_score              Director  \\\n",
       "0                       Drama          9.3        80.0        Frank Darabont   \n",
       "1                Crime, Drama          9.2       100.0  Francis Ford Coppola   \n",
       "2        Action, Crime, Drama          9.0        84.0     Christopher Nolan   \n",
       "3                Crime, Drama          9.0        90.0  Francis Ford Coppola   \n",
       "4                Crime, Drama          9.0        96.0          Sidney Lumet   \n",
       "..                        ...          ...         ...                   ...   \n",
       "995    Comedy, Drama, Romance          7.6        76.0         Blake Edwards   \n",
       "996            Drama, Western          7.6        84.0        George Stevens   \n",
       "997       Drama, Romance, War          7.6        85.0        Fred Zinnemann   \n",
       "998                Drama, War          7.6        78.0      Alfred Hitchcock   \n",
       "999  Crime, Mystery, Thriller          7.6        93.0      Alfred Hitchcock   \n",
       "\n",
       "     No_of_Votes        Gross  \n",
       "0        2343110   28,341,469  \n",
       "1        1620367  134,966,411  \n",
       "2        2303232  534,858,444  \n",
       "3        1129952   57,300,000  \n",
       "4         689845    4,360,000  \n",
       "..           ...          ...  \n",
       "995       166544          NaN  \n",
       "996        34075          NaN  \n",
       "997        43374   30,500,000  \n",
       "998        26471          NaN  \n",
       "999        51853          NaN  \n",
       "\n",
       "[1000 rows x 10 columns]"
      ]
     },
     "execution_count": 151,
     "metadata": {},
     "output_type": "execute_result"
    }
   ],
   "source": [
    "columns_to_drop = ['Poster_Link', 'Overview', 'Star1', 'Star2', 'Star3', 'Star4']\n",
    "df.drop(columns_to_drop, axis=1, inplace=True)\n",
    "df"
   ]
  },
  {
   "cell_type": "code",
   "execution_count": 152,
   "id": "10dbaa1f-eaa2-485c-bec8-a1287bf20201",
   "metadata": {},
   "outputs": [
    {
     "name": "stdout",
     "output_type": "stream",
     "text": [
      "<class 'pandas.core.frame.DataFrame'>\n",
      "RangeIndex: 1000 entries, 0 to 999\n",
      "Data columns (total 10 columns):\n",
      " #   Column         Non-Null Count  Dtype  \n",
      "---  ------         --------------  -----  \n",
      " 0   Series_Title   1000 non-null   object \n",
      " 1   Released_Year  1000 non-null   object \n",
      " 2   Certificate    899 non-null    object \n",
      " 3   Runtime        1000 non-null   object \n",
      " 4   Genre          1000 non-null   object \n",
      " 5   IMDB_Rating    1000 non-null   float64\n",
      " 6   Meta_score     843 non-null    float64\n",
      " 7   Director       1000 non-null   object \n",
      " 8   No_of_Votes    1000 non-null   int64  \n",
      " 9   Gross          831 non-null    object \n",
      "dtypes: float64(2), int64(1), object(7)\n",
      "memory usage: 78.3+ KB\n"
     ]
    }
   ],
   "source": [
    "df.info()"
   ]
  },
  {
   "cell_type": "markdown",
   "id": "42ad0d92-2a93-410a-a445-8167dced316c",
   "metadata": {},
   "source": [
    "<h4>Finding Null Values</h4>"
   ]
  },
  {
   "cell_type": "code",
   "execution_count": 153,
   "id": "cc3af9ef-3d99-450f-9c48-7dd93316e4c2",
   "metadata": {},
   "outputs": [
    {
     "data": {
      "text/plain": [
       "Series_Title       0\n",
       "Released_Year      0\n",
       "Certificate      101\n",
       "Runtime            0\n",
       "Genre              0\n",
       "IMDB_Rating        0\n",
       "Meta_score       157\n",
       "Director           0\n",
       "No_of_Votes        0\n",
       "Gross            169\n",
       "dtype: int64"
      ]
     },
     "execution_count": 153,
     "metadata": {},
     "output_type": "execute_result"
    }
   ],
   "source": [
    "df.isnull().sum()"
   ]
  },
  {
   "cell_type": "markdown",
   "id": "2341ddf0-fdcf-4083-828e-b4e684e5fa85",
   "metadata": {},
   "source": [
    "<h4>Removing</h4>"
   ]
  },
  {
   "cell_type": "code",
   "execution_count": 154,
   "id": "d9461297-9abf-4423-b388-245ae15dc4f7",
   "metadata": {},
   "outputs": [],
   "source": [
    "df.dropna(inplace=True)"
   ]
  },
  {
   "cell_type": "code",
   "execution_count": 155,
   "id": "09703119-1207-402a-95c5-a3c6773a2cb5",
   "metadata": {},
   "outputs": [
    {
     "data": {
      "text/plain": [
       "Series_Title     0\n",
       "Released_Year    0\n",
       "Certificate      0\n",
       "Runtime          0\n",
       "Genre            0\n",
       "IMDB_Rating      0\n",
       "Meta_score       0\n",
       "Director         0\n",
       "No_of_Votes      0\n",
       "Gross            0\n",
       "dtype: int64"
      ]
     },
     "execution_count": 155,
     "metadata": {},
     "output_type": "execute_result"
    }
   ],
   "source": [
    "df.isnull().sum()"
   ]
  },
  {
   "cell_type": "code",
   "execution_count": 156,
   "id": "846de11e-5430-44d9-8c00-676a1af68595",
   "metadata": {},
   "outputs": [
    {
     "data": {
      "text/html": [
       "<div>\n",
       "<style scoped>\n",
       "    .dataframe tbody tr th:only-of-type {\n",
       "        vertical-align: middle;\n",
       "    }\n",
       "\n",
       "    .dataframe tbody tr th {\n",
       "        vertical-align: top;\n",
       "    }\n",
       "\n",
       "    .dataframe thead th {\n",
       "        text-align: right;\n",
       "    }\n",
       "</style>\n",
       "<table border=\"1\" class=\"dataframe\">\n",
       "  <thead>\n",
       "    <tr style=\"text-align: right;\">\n",
       "      <th></th>\n",
       "      <th>Series_Title</th>\n",
       "      <th>Released_Year</th>\n",
       "      <th>Certificate</th>\n",
       "      <th>Runtime</th>\n",
       "      <th>Genre</th>\n",
       "      <th>IMDB_Rating</th>\n",
       "      <th>Meta_score</th>\n",
       "      <th>Director</th>\n",
       "      <th>No_of_Votes</th>\n",
       "      <th>Gross</th>\n",
       "    </tr>\n",
       "  </thead>\n",
       "  <tbody>\n",
       "    <tr>\n",
       "      <th>523</th>\n",
       "      <td>Carlito's Way</td>\n",
       "      <td>1993</td>\n",
       "      <td>A</td>\n",
       "      <td>144 min</td>\n",
       "      <td>Crime, Drama, Thriller</td>\n",
       "      <td>7.9</td>\n",
       "      <td>65.0</td>\n",
       "      <td>Brian De Palma</td>\n",
       "      <td>201000</td>\n",
       "      <td>36,948,322</td>\n",
       "    </tr>\n",
       "    <tr>\n",
       "      <th>358</th>\n",
       "      <td>Persepolis</td>\n",
       "      <td>2007</td>\n",
       "      <td>PG-13</td>\n",
       "      <td>96 min</td>\n",
       "      <td>Animation, Biography, Drama</td>\n",
       "      <td>8.0</td>\n",
       "      <td>90.0</td>\n",
       "      <td>Vincent Paronnaud</td>\n",
       "      <td>88656</td>\n",
       "      <td>4,445,756</td>\n",
       "    </tr>\n",
       "    <tr>\n",
       "      <th>723</th>\n",
       "      <td>Wind River</td>\n",
       "      <td>2017</td>\n",
       "      <td>R</td>\n",
       "      <td>107 min</td>\n",
       "      <td>Crime, Drama, Mystery</td>\n",
       "      <td>7.7</td>\n",
       "      <td>73.0</td>\n",
       "      <td>Taylor Sheridan</td>\n",
       "      <td>205444</td>\n",
       "      <td>33,800,859</td>\n",
       "    </tr>\n",
       "    <tr>\n",
       "      <th>978</th>\n",
       "      <td>Planes, Trains &amp; Automobiles</td>\n",
       "      <td>1987</td>\n",
       "      <td>U</td>\n",
       "      <td>93 min</td>\n",
       "      <td>Comedy, Drama</td>\n",
       "      <td>7.6</td>\n",
       "      <td>72.0</td>\n",
       "      <td>John Hughes</td>\n",
       "      <td>124773</td>\n",
       "      <td>49,530,280</td>\n",
       "    </tr>\n",
       "    <tr>\n",
       "      <th>735</th>\n",
       "      <td>Kai po che!</td>\n",
       "      <td>2013</td>\n",
       "      <td>U</td>\n",
       "      <td>130 min</td>\n",
       "      <td>Drama, Sport</td>\n",
       "      <td>7.7</td>\n",
       "      <td>40.0</td>\n",
       "      <td>Abhishek Kapoor</td>\n",
       "      <td>32628</td>\n",
       "      <td>1,122,527</td>\n",
       "    </tr>\n",
       "    <tr>\n",
       "      <th>515</th>\n",
       "      <td>Mulholland Dr.</td>\n",
       "      <td>2001</td>\n",
       "      <td>R</td>\n",
       "      <td>147 min</td>\n",
       "      <td>Drama, Mystery, Thriller</td>\n",
       "      <td>7.9</td>\n",
       "      <td>85.0</td>\n",
       "      <td>David Lynch</td>\n",
       "      <td>322031</td>\n",
       "      <td>7,220,243</td>\n",
       "    </tr>\n",
       "    <tr>\n",
       "      <th>614</th>\n",
       "      <td>The Fighter</td>\n",
       "      <td>2010</td>\n",
       "      <td>UA</td>\n",
       "      <td>116 min</td>\n",
       "      <td>Biography, Drama, Sport</td>\n",
       "      <td>7.8</td>\n",
       "      <td>79.0</td>\n",
       "      <td>David O. Russell</td>\n",
       "      <td>340584</td>\n",
       "      <td>93,617,009</td>\n",
       "    </tr>\n",
       "    <tr>\n",
       "      <th>245</th>\n",
       "      <td>Monsters, Inc.</td>\n",
       "      <td>2001</td>\n",
       "      <td>U</td>\n",
       "      <td>92 min</td>\n",
       "      <td>Animation, Adventure, Comedy</td>\n",
       "      <td>8.1</td>\n",
       "      <td>79.0</td>\n",
       "      <td>Pete Docter</td>\n",
       "      <td>815505</td>\n",
       "      <td>289,916,256</td>\n",
       "    </tr>\n",
       "  </tbody>\n",
       "</table>\n",
       "</div>"
      ],
      "text/plain": [
       "                     Series_Title Released_Year Certificate  Runtime  \\\n",
       "523                 Carlito's Way          1993           A  144 min   \n",
       "358                    Persepolis          2007       PG-13   96 min   \n",
       "723                    Wind River          2017           R  107 min   \n",
       "978  Planes, Trains & Automobiles          1987           U   93 min   \n",
       "735                   Kai po che!          2013           U  130 min   \n",
       "515                Mulholland Dr.          2001           R  147 min   \n",
       "614                   The Fighter          2010          UA  116 min   \n",
       "245                Monsters, Inc.          2001           U   92 min   \n",
       "\n",
       "                            Genre  IMDB_Rating  Meta_score           Director  \\\n",
       "523        Crime, Drama, Thriller          7.9        65.0     Brian De Palma   \n",
       "358   Animation, Biography, Drama          8.0        90.0  Vincent Paronnaud   \n",
       "723         Crime, Drama, Mystery          7.7        73.0    Taylor Sheridan   \n",
       "978                 Comedy, Drama          7.6        72.0        John Hughes   \n",
       "735                  Drama, Sport          7.7        40.0    Abhishek Kapoor   \n",
       "515      Drama, Mystery, Thriller          7.9        85.0        David Lynch   \n",
       "614       Biography, Drama, Sport          7.8        79.0   David O. Russell   \n",
       "245  Animation, Adventure, Comedy          8.1        79.0        Pete Docter   \n",
       "\n",
       "     No_of_Votes        Gross  \n",
       "523       201000   36,948,322  \n",
       "358        88656    4,445,756  \n",
       "723       205444   33,800,859  \n",
       "978       124773   49,530,280  \n",
       "735        32628    1,122,527  \n",
       "515       322031    7,220,243  \n",
       "614       340584   93,617,009  \n",
       "245       815505  289,916,256  "
      ]
     },
     "execution_count": 156,
     "metadata": {},
     "output_type": "execute_result"
    }
   ],
   "source": [
    "df.sample(n=8)"
   ]
  },
  {
   "cell_type": "code",
   "execution_count": 157,
   "id": "1060df61-aee3-4024-8ef3-9e05ced9567e",
   "metadata": {},
   "outputs": [
    {
     "data": {
      "text/html": [
       "<div>\n",
       "<style scoped>\n",
       "    .dataframe tbody tr th:only-of-type {\n",
       "        vertical-align: middle;\n",
       "    }\n",
       "\n",
       "    .dataframe tbody tr th {\n",
       "        vertical-align: top;\n",
       "    }\n",
       "\n",
       "    .dataframe thead th {\n",
       "        text-align: right;\n",
       "    }\n",
       "</style>\n",
       "<table border=\"1\" class=\"dataframe\">\n",
       "  <thead>\n",
       "    <tr style=\"text-align: right;\">\n",
       "      <th></th>\n",
       "      <th>Series_Title</th>\n",
       "      <th>Released_Year</th>\n",
       "      <th>Certificate</th>\n",
       "      <th>Runtime</th>\n",
       "      <th>Genre</th>\n",
       "      <th>IMDB_Rating</th>\n",
       "      <th>Meta_score</th>\n",
       "      <th>Director</th>\n",
       "      <th>No_of_Votes</th>\n",
       "      <th>Gross</th>\n",
       "    </tr>\n",
       "  </thead>\n",
       "  <tbody>\n",
       "    <tr>\n",
       "      <th>0</th>\n",
       "      <td>The Shawshank Redemption</td>\n",
       "      <td>1994</td>\n",
       "      <td>A</td>\n",
       "      <td>142</td>\n",
       "      <td>Drama</td>\n",
       "      <td>9.3</td>\n",
       "      <td>80.0</td>\n",
       "      <td>Frank Darabont</td>\n",
       "      <td>2343110</td>\n",
       "      <td>28,341,469</td>\n",
       "    </tr>\n",
       "    <tr>\n",
       "      <th>1</th>\n",
       "      <td>The Godfather</td>\n",
       "      <td>1972</td>\n",
       "      <td>A</td>\n",
       "      <td>175</td>\n",
       "      <td>Crime, Drama</td>\n",
       "      <td>9.2</td>\n",
       "      <td>100.0</td>\n",
       "      <td>Francis Ford Coppola</td>\n",
       "      <td>1620367</td>\n",
       "      <td>134,966,411</td>\n",
       "    </tr>\n",
       "    <tr>\n",
       "      <th>2</th>\n",
       "      <td>The Dark Knight</td>\n",
       "      <td>2008</td>\n",
       "      <td>UA</td>\n",
       "      <td>152</td>\n",
       "      <td>Action, Crime, Drama</td>\n",
       "      <td>9.0</td>\n",
       "      <td>84.0</td>\n",
       "      <td>Christopher Nolan</td>\n",
       "      <td>2303232</td>\n",
       "      <td>534,858,444</td>\n",
       "    </tr>\n",
       "    <tr>\n",
       "      <th>3</th>\n",
       "      <td>The Godfather: Part II</td>\n",
       "      <td>1974</td>\n",
       "      <td>A</td>\n",
       "      <td>202</td>\n",
       "      <td>Crime, Drama</td>\n",
       "      <td>9.0</td>\n",
       "      <td>90.0</td>\n",
       "      <td>Francis Ford Coppola</td>\n",
       "      <td>1129952</td>\n",
       "      <td>57,300,000</td>\n",
       "    </tr>\n",
       "    <tr>\n",
       "      <th>4</th>\n",
       "      <td>12 Angry Men</td>\n",
       "      <td>1957</td>\n",
       "      <td>U</td>\n",
       "      <td>96</td>\n",
       "      <td>Crime, Drama</td>\n",
       "      <td>9.0</td>\n",
       "      <td>96.0</td>\n",
       "      <td>Sidney Lumet</td>\n",
       "      <td>689845</td>\n",
       "      <td>4,360,000</td>\n",
       "    </tr>\n",
       "    <tr>\n",
       "      <th>...</th>\n",
       "      <td>...</td>\n",
       "      <td>...</td>\n",
       "      <td>...</td>\n",
       "      <td>...</td>\n",
       "      <td>...</td>\n",
       "      <td>...</td>\n",
       "      <td>...</td>\n",
       "      <td>...</td>\n",
       "      <td>...</td>\n",
       "      <td>...</td>\n",
       "    </tr>\n",
       "    <tr>\n",
       "      <th>990</th>\n",
       "      <td>Giù la testa</td>\n",
       "      <td>1971</td>\n",
       "      <td>PG</td>\n",
       "      <td>157</td>\n",
       "      <td>Drama, War, Western</td>\n",
       "      <td>7.6</td>\n",
       "      <td>77.0</td>\n",
       "      <td>Sergio Leone</td>\n",
       "      <td>30144</td>\n",
       "      <td>696,690</td>\n",
       "    </tr>\n",
       "    <tr>\n",
       "      <th>991</th>\n",
       "      <td>Kelly's Heroes</td>\n",
       "      <td>1970</td>\n",
       "      <td>GP</td>\n",
       "      <td>144</td>\n",
       "      <td>Adventure, Comedy, War</td>\n",
       "      <td>7.6</td>\n",
       "      <td>50.0</td>\n",
       "      <td>Brian G. Hutton</td>\n",
       "      <td>45338</td>\n",
       "      <td>1,378,435</td>\n",
       "    </tr>\n",
       "    <tr>\n",
       "      <th>992</th>\n",
       "      <td>The Jungle Book</td>\n",
       "      <td>1967</td>\n",
       "      <td>U</td>\n",
       "      <td>78</td>\n",
       "      <td>Animation, Adventure, Family</td>\n",
       "      <td>7.6</td>\n",
       "      <td>65.0</td>\n",
       "      <td>Wolfgang Reitherman</td>\n",
       "      <td>166409</td>\n",
       "      <td>141,843,612</td>\n",
       "    </tr>\n",
       "    <tr>\n",
       "      <th>994</th>\n",
       "      <td>A Hard Day's Night</td>\n",
       "      <td>1964</td>\n",
       "      <td>U</td>\n",
       "      <td>87</td>\n",
       "      <td>Comedy, Music, Musical</td>\n",
       "      <td>7.6</td>\n",
       "      <td>96.0</td>\n",
       "      <td>Richard Lester</td>\n",
       "      <td>40351</td>\n",
       "      <td>13,780,024</td>\n",
       "    </tr>\n",
       "    <tr>\n",
       "      <th>997</th>\n",
       "      <td>From Here to Eternity</td>\n",
       "      <td>1953</td>\n",
       "      <td>Passed</td>\n",
       "      <td>118</td>\n",
       "      <td>Drama, Romance, War</td>\n",
       "      <td>7.6</td>\n",
       "      <td>85.0</td>\n",
       "      <td>Fred Zinnemann</td>\n",
       "      <td>43374</td>\n",
       "      <td>30,500,000</td>\n",
       "    </tr>\n",
       "  </tbody>\n",
       "</table>\n",
       "<p>714 rows × 10 columns</p>\n",
       "</div>"
      ],
      "text/plain": [
       "                 Series_Title Released_Year Certificate  Runtime  \\\n",
       "0    The Shawshank Redemption          1994           A      142   \n",
       "1               The Godfather          1972           A      175   \n",
       "2             The Dark Knight          2008          UA      152   \n",
       "3      The Godfather: Part II          1974           A      202   \n",
       "4                12 Angry Men          1957           U       96   \n",
       "..                        ...           ...         ...      ...   \n",
       "990              Giù la testa          1971          PG      157   \n",
       "991            Kelly's Heroes          1970          GP      144   \n",
       "992           The Jungle Book          1967           U       78   \n",
       "994        A Hard Day's Night          1964           U       87   \n",
       "997     From Here to Eternity          1953      Passed      118   \n",
       "\n",
       "                            Genre  IMDB_Rating  Meta_score  \\\n",
       "0                           Drama          9.3        80.0   \n",
       "1                    Crime, Drama          9.2       100.0   \n",
       "2            Action, Crime, Drama          9.0        84.0   \n",
       "3                    Crime, Drama          9.0        90.0   \n",
       "4                    Crime, Drama          9.0        96.0   \n",
       "..                            ...          ...         ...   \n",
       "990           Drama, War, Western          7.6        77.0   \n",
       "991        Adventure, Comedy, War          7.6        50.0   \n",
       "992  Animation, Adventure, Family          7.6        65.0   \n",
       "994        Comedy, Music, Musical          7.6        96.0   \n",
       "997           Drama, Romance, War          7.6        85.0   \n",
       "\n",
       "                 Director  No_of_Votes        Gross  \n",
       "0          Frank Darabont      2343110   28,341,469  \n",
       "1    Francis Ford Coppola      1620367  134,966,411  \n",
       "2       Christopher Nolan      2303232  534,858,444  \n",
       "3    Francis Ford Coppola      1129952   57,300,000  \n",
       "4            Sidney Lumet       689845    4,360,000  \n",
       "..                    ...          ...          ...  \n",
       "990          Sergio Leone        30144      696,690  \n",
       "991       Brian G. Hutton        45338    1,378,435  \n",
       "992   Wolfgang Reitherman       166409  141,843,612  \n",
       "994        Richard Lester        40351   13,780,024  \n",
       "997        Fred Zinnemann        43374   30,500,000  \n",
       "\n",
       "[714 rows x 10 columns]"
      ]
     },
     "execution_count": 157,
     "metadata": {},
     "output_type": "execute_result"
    }
   ],
   "source": [
    "df['Runtime']=df['Runtime'].str.split().str[0].astype('int')\n",
    "df"
   ]
  },
  {
   "cell_type": "markdown",
   "id": "6919f6e7-ea5d-446d-803c-1d4aabfdabca",
   "metadata": {},
   "source": [
    "<h4>Removing Unwanted Data From Released Year</h4>"
   ]
  },
  {
   "cell_type": "code",
   "execution_count": 158,
   "id": "f85f9590-2bd6-4ead-8c6d-e2347ed00b61",
   "metadata": {},
   "outputs": [
    {
     "name": "stdout",
     "output_type": "stream",
     "text": [
      "<class 'pandas.core.frame.DataFrame'>\n",
      "Index: 713 entries, 0 to 997\n",
      "Data columns (total 10 columns):\n",
      " #   Column         Non-Null Count  Dtype  \n",
      "---  ------         --------------  -----  \n",
      " 0   Series_Title   713 non-null    object \n",
      " 1   Released_Year  713 non-null    object \n",
      " 2   Certificate    713 non-null    object \n",
      " 3   Runtime        713 non-null    int32  \n",
      " 4   Genre          713 non-null    object \n",
      " 5   IMDB_Rating    713 non-null    float64\n",
      " 6   Meta_score     713 non-null    float64\n",
      " 7   Director       713 non-null    object \n",
      " 8   No_of_Votes    713 non-null    int64  \n",
      " 9   Gross          713 non-null    object \n",
      "dtypes: float64(2), int32(1), int64(1), object(6)\n",
      "memory usage: 58.5+ KB\n"
     ]
    }
   ],
   "source": [
    "value='PG'\n",
    "mask=df['Released_Year']==value\n",
    "df=df[~mask]\n",
    "df.info()\n"
   ]
  },
  {
   "cell_type": "code",
   "execution_count": 159,
   "id": "fa648241-956f-4dec-8d89-6564c34530bb",
   "metadata": {},
   "outputs": [
    {
     "name": "stdout",
     "output_type": "stream",
     "text": [
      "<class 'pandas.core.frame.DataFrame'>\n",
      "Index: 713 entries, 0 to 997\n",
      "Data columns (total 10 columns):\n",
      " #   Column         Non-Null Count  Dtype  \n",
      "---  ------         --------------  -----  \n",
      " 0   Series_Title   713 non-null    object \n",
      " 1   Released_Year  713 non-null    object \n",
      " 2   Certificate    713 non-null    object \n",
      " 3   Runtime        713 non-null    int32  \n",
      " 4   Genre          713 non-null    object \n",
      " 5   IMDB_Rating    713 non-null    float64\n",
      " 6   Meta_score     713 non-null    float64\n",
      " 7   Director       713 non-null    object \n",
      " 8   No_of_Votes    713 non-null    int64  \n",
      " 9   Gross          713 non-null    object \n",
      "dtypes: float64(2), int32(1), int64(1), object(6)\n",
      "memory usage: 58.5+ KB\n"
     ]
    }
   ],
   "source": [
    "df.info()"
   ]
  },
  {
   "cell_type": "code",
   "execution_count": 160,
   "id": "8e863082-b8de-424a-8a0f-140a31afb6e0",
   "metadata": {},
   "outputs": [
    {
     "data": {
      "text/plain": [
       "(713, 10)"
      ]
     },
     "execution_count": 160,
     "metadata": {},
     "output_type": "execute_result"
    }
   ],
   "source": [
    "df.shape"
   ]
  },
  {
   "cell_type": "markdown",
   "id": "20f5d906-f4bc-408e-adc4-f99b7a07fdbc",
   "metadata": {},
   "source": [
    "<h4>Removing Unwanted Data From Certificates</h4>"
   ]
  },
  {
   "cell_type": "code",
   "execution_count": 162,
   "id": "a5142e15-b6a8-48d7-b17a-b283b2d0e9af",
   "metadata": {},
   "outputs": [],
   "source": [
    "inval=['A','U','UA','R','PG-13','G','PG']\n",
    "for index, row in df.iterrows():\n",
    "    if row['Certificate'] not in inval:\n",
    "        df.drop(index, inplace=True)"
   ]
  },
  {
   "cell_type": "code",
   "execution_count": 163,
   "id": "861d9591-969d-4a92-be9a-a965c394fbbc",
   "metadata": {},
   "outputs": [
    {
     "name": "stdout",
     "output_type": "stream",
     "text": [
      "<class 'pandas.core.frame.DataFrame'>\n",
      "Index: 695 entries, 0 to 994\n",
      "Data columns (total 10 columns):\n",
      " #   Column         Non-Null Count  Dtype  \n",
      "---  ------         --------------  -----  \n",
      " 0   Series_Title   695 non-null    object \n",
      " 1   Released_Year  695 non-null    object \n",
      " 2   Certificate    695 non-null    object \n",
      " 3   Runtime        695 non-null    int32  \n",
      " 4   Genre          695 non-null    object \n",
      " 5   IMDB_Rating    695 non-null    float64\n",
      " 6   Meta_score     695 non-null    float64\n",
      " 7   Director       695 non-null    object \n",
      " 8   No_of_Votes    695 non-null    int64  \n",
      " 9   Gross          695 non-null    object \n",
      "dtypes: float64(2), int32(1), int64(1), object(6)\n",
      "memory usage: 57.0+ KB\n"
     ]
    }
   ],
   "source": [
    "df.info()"
   ]
  },
  {
   "cell_type": "markdown",
   "id": "0acf8732-df31-4bfa-afc6-2ab48b373ae3",
   "metadata": {},
   "source": [
    "<h4>Count Based on Genre</h4>"
   ]
  },
  {
   "cell_type": "code",
   "execution_count": 164,
   "id": "21e5be7c-5460-424c-acba-ae1f8ac6e63e",
   "metadata": {},
   "outputs": [
    {
     "data": {
      "text/plain": [
       "{'Drama': 486,\n",
       " 'Crime': 141,\n",
       " 'Action': 138,\n",
       " 'Adventure': 158,\n",
       " 'Biography': 88,\n",
       " 'History': 36,\n",
       " 'Sci-Fi': 55,\n",
       " 'Romance': 84,\n",
       " 'Western': 13,\n",
       " 'Fantasy': 55,\n",
       " 'Comedy': 158,\n",
       " 'Thriller': 96,\n",
       " 'Animation': 63,\n",
       " 'Family': 43,\n",
       " 'War': 26,\n",
       " 'Mystery': 66,\n",
       " 'Music': 27,\n",
       " 'Horror': 16,\n",
       " 'Sport': 17,\n",
       " 'Musical': 11,\n",
       " 'Film-Noir': 3}"
      ]
     },
     "execution_count": 164,
     "metadata": {},
     "output_type": "execute_result"
    }
   ],
   "source": [
    "movie_genre = {}\n",
    "for index, row in df.iterrows():\n",
    "    l = row['Genre'].strip().split(',')\n",
    "    for k in l:\n",
    "        k = k.strip()\n",
    "        # Check if the genre is already in the dictionary, if not, initialize it to 0\n",
    "        if k not in movie_genre:\n",
    "            movie_genre[k] = 0\n",
    "        movie_genre[k] += 1\n",
    "\n",
    "movie_genre\n"
   ]
  },
  {
   "cell_type": "markdown",
   "id": "ea36371d-4450-408a-a07f-c288444d2062",
   "metadata": {},
   "source": [
    "<h4>Creating A new DataFrame for Genre Data</h4>"
   ]
  },
  {
   "cell_type": "code",
   "execution_count": 165,
   "id": "25fb5595-22ad-4743-8634-aff8ba713500",
   "metadata": {},
   "outputs": [
    {
     "data": {
      "text/html": [
       "<div>\n",
       "<style scoped>\n",
       "    .dataframe tbody tr th:only-of-type {\n",
       "        vertical-align: middle;\n",
       "    }\n",
       "\n",
       "    .dataframe tbody tr th {\n",
       "        vertical-align: top;\n",
       "    }\n",
       "\n",
       "    .dataframe thead th {\n",
       "        text-align: right;\n",
       "    }\n",
       "</style>\n",
       "<table border=\"1\" class=\"dataframe\">\n",
       "  <thead>\n",
       "    <tr style=\"text-align: right;\">\n",
       "      <th></th>\n",
       "      <th>Genre</th>\n",
       "      <th>Count</th>\n",
       "    </tr>\n",
       "  </thead>\n",
       "  <tbody>\n",
       "    <tr>\n",
       "      <th>0</th>\n",
       "      <td>Drama</td>\n",
       "      <td>486</td>\n",
       "    </tr>\n",
       "    <tr>\n",
       "      <th>1</th>\n",
       "      <td>Crime</td>\n",
       "      <td>141</td>\n",
       "    </tr>\n",
       "    <tr>\n",
       "      <th>2</th>\n",
       "      <td>Action</td>\n",
       "      <td>138</td>\n",
       "    </tr>\n",
       "    <tr>\n",
       "      <th>3</th>\n",
       "      <td>Adventure</td>\n",
       "      <td>158</td>\n",
       "    </tr>\n",
       "    <tr>\n",
       "      <th>4</th>\n",
       "      <td>Biography</td>\n",
       "      <td>88</td>\n",
       "    </tr>\n",
       "    <tr>\n",
       "      <th>5</th>\n",
       "      <td>History</td>\n",
       "      <td>36</td>\n",
       "    </tr>\n",
       "    <tr>\n",
       "      <th>6</th>\n",
       "      <td>Sci-Fi</td>\n",
       "      <td>55</td>\n",
       "    </tr>\n",
       "    <tr>\n",
       "      <th>7</th>\n",
       "      <td>Romance</td>\n",
       "      <td>84</td>\n",
       "    </tr>\n",
       "    <tr>\n",
       "      <th>8</th>\n",
       "      <td>Western</td>\n",
       "      <td>13</td>\n",
       "    </tr>\n",
       "    <tr>\n",
       "      <th>9</th>\n",
       "      <td>Fantasy</td>\n",
       "      <td>55</td>\n",
       "    </tr>\n",
       "    <tr>\n",
       "      <th>10</th>\n",
       "      <td>Comedy</td>\n",
       "      <td>158</td>\n",
       "    </tr>\n",
       "    <tr>\n",
       "      <th>11</th>\n",
       "      <td>Thriller</td>\n",
       "      <td>96</td>\n",
       "    </tr>\n",
       "    <tr>\n",
       "      <th>12</th>\n",
       "      <td>Animation</td>\n",
       "      <td>63</td>\n",
       "    </tr>\n",
       "    <tr>\n",
       "      <th>13</th>\n",
       "      <td>Family</td>\n",
       "      <td>43</td>\n",
       "    </tr>\n",
       "    <tr>\n",
       "      <th>14</th>\n",
       "      <td>War</td>\n",
       "      <td>26</td>\n",
       "    </tr>\n",
       "    <tr>\n",
       "      <th>15</th>\n",
       "      <td>Mystery</td>\n",
       "      <td>66</td>\n",
       "    </tr>\n",
       "    <tr>\n",
       "      <th>16</th>\n",
       "      <td>Music</td>\n",
       "      <td>27</td>\n",
       "    </tr>\n",
       "    <tr>\n",
       "      <th>17</th>\n",
       "      <td>Horror</td>\n",
       "      <td>16</td>\n",
       "    </tr>\n",
       "    <tr>\n",
       "      <th>18</th>\n",
       "      <td>Sport</td>\n",
       "      <td>17</td>\n",
       "    </tr>\n",
       "    <tr>\n",
       "      <th>19</th>\n",
       "      <td>Musical</td>\n",
       "      <td>11</td>\n",
       "    </tr>\n",
       "    <tr>\n",
       "      <th>20</th>\n",
       "      <td>Film-Noir</td>\n",
       "      <td>3</td>\n",
       "    </tr>\n",
       "  </tbody>\n",
       "</table>\n",
       "</div>"
      ],
      "text/plain": [
       "        Genre  Count\n",
       "0       Drama    486\n",
       "1       Crime    141\n",
       "2      Action    138\n",
       "3   Adventure    158\n",
       "4   Biography     88\n",
       "5     History     36\n",
       "6      Sci-Fi     55\n",
       "7     Romance     84\n",
       "8     Western     13\n",
       "9     Fantasy     55\n",
       "10     Comedy    158\n",
       "11   Thriller     96\n",
       "12  Animation     63\n",
       "13     Family     43\n",
       "14        War     26\n",
       "15    Mystery     66\n",
       "16      Music     27\n",
       "17     Horror     16\n",
       "18      Sport     17\n",
       "19    Musical     11\n",
       "20  Film-Noir      3"
      ]
     },
     "execution_count": 165,
     "metadata": {},
     "output_type": "execute_result"
    }
   ],
   "source": [
    "movie_frame = pd.DataFrame(list(movie_genre.items()), columns=['Genre', 'Count'])\n",
    "movie_frame"
   ]
  },
  {
   "cell_type": "code",
   "execution_count": 166,
   "id": "54c4ff1a-1111-45a1-89f4-e01a9115cb8b",
   "metadata": {},
   "outputs": [
    {
     "name": "stderr",
     "output_type": "stream",
     "text": [
      "C:\\Users\\SRIRAM\\AppData\\Local\\Temp\\ipykernel_16948\\517963124.py:2: FutureWarning: \n",
      "\n",
      "Passing `palette` without assigning `hue` is deprecated and will be removed in v0.14.0. Assign the `x` variable to `hue` and set `legend=False` for the same effect.\n",
      "\n",
      "  sns.barplot(data=movie_frame,x='Genre',y='Count',palette='viridis')\n"
     ]
    },
    {
     "data": {
      "text/plain": [
       "<Axes: xlabel='Genre', ylabel='Count'>"
      ]
     },
     "execution_count": 166,
     "metadata": {},
     "output_type": "execute_result"
    },
    {
     "data": {
      "image/png": "[encoded data removed]",
      "text/plain": [
       "<Figure size 2000x900 with 1 Axes>"
      ]
     },
     "metadata": {},
     "output_type": "display_data"
    }
   ],
   "source": [
    "plt.figure(figsize=(20,9))\n",
    "sns.barplot(data=movie_frame,x='Genre',y='Count',palette='viridis')"
   ]
  },
  {
   "cell_type": "markdown",
   "id": "4b8eabd7-6e52-44a8-94cb-a4b5a385d928",
   "metadata": {},
   "source": [
    "<h4 style=\"font-weight:300;font-size:21px;\"><i>The bar plot above displays the count of movies in each genre, showcasing the distribution of genres in the dataset. Each bar represents a genre, and the height of the bar corresponds to the number of movies belonging to that genre. The plot is color-coded using the 'viridis' color palette, providing a visual representation of the frequency of each genre in the dataset</i></h4>"
   ]
  },
  {
   "cell_type": "code",
   "execution_count": 199,
   "id": "89520e76-bcf4-4daf-bedf-3e5c77b727ff",
   "metadata": {},
   "outputs": [],
   "source": [
    "df['Released_Year']=df['Released_Year'].astype('int')"
   ]
  },
  {
   "cell_type": "code",
   "execution_count": 198,
   "id": "e099d461-a5ab-46b2-9be4-d847de4abab8",
   "metadata": {},
   "outputs": [
    {
     "data": {
      "text/plain": [
       "Text(0, 0.5, 'No_Of_Movies')"
      ]
     },
     "execution_count": 198,
     "metadata": {},
     "output_type": "execute_result"
    },
    {
     "data": {
      "image/png": "[encoded data removed]",
      "text/plain": [
       "<Figure size 2000x900 with 1 Axes>"
      ]
     },
     "metadata": {},
     "output_type": "display_data"
    }
   ],
   "source": [
    "filtered_df = df[(df['Released_Year'] >= 2000) & (df['Released_Year'] <= 2019)]\n",
    "g=filtered_df.groupby(['Released_Year'],as_index=False)['Series_Title'].count()\n",
    "plt.figure(figsize=(20,9))\n",
    "sns.barplot(data=g,x=\"Released_Year\",y='Series_Title')\n",
    "plt.ylabel(\"No_Of_Movies\")\n"
   ]
  },
  {
   "cell_type": "markdown",
   "id": "53cccc61-d26c-4544-958b-5e80eb9d2a45",
   "metadata": {},
   "source": [
    "<h4 style=\"font-weight:300;font-size:21px;\"><i>The code snippet filters a DataFrame to include only rows with 'Released_Year' between 2000 and 2019. It then groups this filtered data by 'Released_Year' and counts the occurrences of 'Series_Title' for each year. Finally, it creates a bar plot displaying the count of series released each year between 2000 and 2019.</i></h4>"
   ]
  },
  {
   "cell_type": "code",
   "execution_count": null,
   "id": "2bc4afbd-26d7-42e3-8914-76a068f98225",
   "metadata": {},
   "outputs": [],
   "source": []
  },
  {
   "cell_type": "code",
   "execution_count": 175,
   "id": "b3c16dae-83af-4b54-ab50-5529792b161f",
   "metadata": {},
   "outputs": [],
   "source": [
    "df['Gross'] = df['Gross'].str.replace(',', '').astype('int')\n",
    "# g = df.groupby(['IMDB_Rating'], as_index=False)['Gross'].sum().sort_values(by='Gross', ascending=False)\n",
    "# sns.barplot(data=g,x='IMDB_Rating',y='Gross')\n",
    "# # print(df.columns)"
   ]
  },
  {
   "cell_type": "code",
   "execution_count": 192,
   "id": "1ab40afe-415c-4911-aaa8-73d59411f159",
   "metadata": {},
   "outputs": [
    {
     "data": {
      "text/plain": [
       "<Axes: xlabel='IMDB_Rating', ylabel='Gross'>"
      ]
     },
     "execution_count": 192,
     "metadata": {},
     "output_type": "execute_result"
    },
    {
     "data": {
      "image/png": "[encoded data removed]",
      "text/plain": [
       "<Figure size 640x480 with 1 Axes>"
      ]
     },
     "metadata": {},
     "output_type": "display_data"
    }
   ],
   "source": [
    "g = df.groupby(['IMDB_Rating'], as_index=False)['Gross'].mean().sort_values(by='Gross', ascending=False)\n",
    "sns.barplot(data=g,x='IMDB_Rating',y='Gross')\n"
   ]
  },
  {
   "cell_type": "markdown",
   "id": "ba48aa23-49d9-4845-9d70-583457ed4d07",
   "metadata": {},
   "source": [
    "<h4 style=\"font-weight:300;font-size:21px;\"><i>\n",
    "The code groups the DataFrame df by 'IMDB_Rating' and calculates the mean of the 'Gross' column for each group. It then sorts these mean values in descending order. Finally, it creates a bar plot where the x-axis represents the 'IMDB_Rating' and the y-axis represents the mean 'Gross' value for each 'IMDB_Rating' group\n",
    "</i></h4>"
   ]
  },
  {
   "cell_type": "markdown",
   "id": "74e5fa0f-bc1d-4f02-8729-5400216485ec",
   "metadata": {},
   "source": [
    "<h4 style=\"font-weight:300;font-size:21px;\"><i>\n",
    "This code sorts the DataFrame df by the 'IMDB_Rating' column in descending order and then selects the top 10 rows and all columns for further analysis. The resulting t DataFrame contains the top 10 movies with the highest IMDB ratings.\n",
    "</i></h4>"
   ]
  },
  {
   "cell_type": "code",
   "execution_count": 184,
   "id": "ddfb1147-4621-4792-b947-f0591e39bfd7",
   "metadata": {},
   "outputs": [
    {
     "data": {
      "text/html": [
       "<div>\n",
       "<style scoped>\n",
       "    .dataframe tbody tr th:only-of-type {\n",
       "        vertical-align: middle;\n",
       "    }\n",
       "\n",
       "    .dataframe tbody tr th {\n",
       "        vertical-align: top;\n",
       "    }\n",
       "\n",
       "    .dataframe thead th {\n",
       "        text-align: right;\n",
       "    }\n",
       "</style>\n",
       "<table border=\"1\" class=\"dataframe\">\n",
       "  <thead>\n",
       "    <tr style=\"text-align: right;\">\n",
       "      <th></th>\n",
       "      <th>Series_Title</th>\n",
       "      <th>Released_Year</th>\n",
       "      <th>Certificate</th>\n",
       "      <th>Runtime</th>\n",
       "      <th>Genre</th>\n",
       "      <th>IMDB_Rating</th>\n",
       "      <th>Meta_score</th>\n",
       "      <th>Director</th>\n",
       "      <th>No_of_Votes</th>\n",
       "      <th>Gross</th>\n",
       "    </tr>\n",
       "  </thead>\n",
       "  <tbody>\n",
       "    <tr>\n",
       "      <th>0</th>\n",
       "      <td>The Shawshank Redemption</td>\n",
       "      <td>1994</td>\n",
       "      <td>A</td>\n",
       "      <td>142</td>\n",
       "      <td>Drama</td>\n",
       "      <td>9.3</td>\n",
       "      <td>80.0</td>\n",
       "      <td>Frank Darabont</td>\n",
       "      <td>2343110</td>\n",
       "      <td>28341469</td>\n",
       "    </tr>\n",
       "    <tr>\n",
       "      <th>1</th>\n",
       "      <td>The Godfather</td>\n",
       "      <td>1972</td>\n",
       "      <td>A</td>\n",
       "      <td>175</td>\n",
       "      <td>Crime, Drama</td>\n",
       "      <td>9.2</td>\n",
       "      <td>100.0</td>\n",
       "      <td>Francis Ford Coppola</td>\n",
       "      <td>1620367</td>\n",
       "      <td>134966411</td>\n",
       "    </tr>\n",
       "    <tr>\n",
       "      <th>2</th>\n",
       "      <td>The Dark Knight</td>\n",
       "      <td>2008</td>\n",
       "      <td>UA</td>\n",
       "      <td>152</td>\n",
       "      <td>Action, Crime, Drama</td>\n",
       "      <td>9.0</td>\n",
       "      <td>84.0</td>\n",
       "      <td>Christopher Nolan</td>\n",
       "      <td>2303232</td>\n",
       "      <td>534858444</td>\n",
       "    </tr>\n",
       "    <tr>\n",
       "      <th>3</th>\n",
       "      <td>The Godfather: Part II</td>\n",
       "      <td>1974</td>\n",
       "      <td>A</td>\n",
       "      <td>202</td>\n",
       "      <td>Crime, Drama</td>\n",
       "      <td>9.0</td>\n",
       "      <td>90.0</td>\n",
       "      <td>Francis Ford Coppola</td>\n",
       "      <td>1129952</td>\n",
       "      <td>57300000</td>\n",
       "    </tr>\n",
       "    <tr>\n",
       "      <th>4</th>\n",
       "      <td>12 Angry Men</td>\n",
       "      <td>1957</td>\n",
       "      <td>U</td>\n",
       "      <td>96</td>\n",
       "      <td>Crime, Drama</td>\n",
       "      <td>9.0</td>\n",
       "      <td>96.0</td>\n",
       "      <td>Sidney Lumet</td>\n",
       "      <td>689845</td>\n",
       "      <td>4360000</td>\n",
       "    </tr>\n",
       "    <tr>\n",
       "      <th>5</th>\n",
       "      <td>The Lord of the Rings: The Return of the King</td>\n",
       "      <td>2003</td>\n",
       "      <td>U</td>\n",
       "      <td>201</td>\n",
       "      <td>Action, Adventure, Drama</td>\n",
       "      <td>8.9</td>\n",
       "      <td>94.0</td>\n",
       "      <td>Peter Jackson</td>\n",
       "      <td>1642758</td>\n",
       "      <td>377845905</td>\n",
       "    </tr>\n",
       "    <tr>\n",
       "      <th>6</th>\n",
       "      <td>Pulp Fiction</td>\n",
       "      <td>1994</td>\n",
       "      <td>A</td>\n",
       "      <td>154</td>\n",
       "      <td>Crime, Drama</td>\n",
       "      <td>8.9</td>\n",
       "      <td>94.0</td>\n",
       "      <td>Quentin Tarantino</td>\n",
       "      <td>1826188</td>\n",
       "      <td>107928762</td>\n",
       "    </tr>\n",
       "    <tr>\n",
       "      <th>7</th>\n",
       "      <td>Schindler's List</td>\n",
       "      <td>1993</td>\n",
       "      <td>A</td>\n",
       "      <td>195</td>\n",
       "      <td>Biography, Drama, History</td>\n",
       "      <td>8.9</td>\n",
       "      <td>94.0</td>\n",
       "      <td>Steven Spielberg</td>\n",
       "      <td>1213505</td>\n",
       "      <td>96898818</td>\n",
       "    </tr>\n",
       "    <tr>\n",
       "      <th>10</th>\n",
       "      <td>The Lord of the Rings: The Fellowship of the Ring</td>\n",
       "      <td>2001</td>\n",
       "      <td>U</td>\n",
       "      <td>178</td>\n",
       "      <td>Action, Adventure, Drama</td>\n",
       "      <td>8.8</td>\n",
       "      <td>92.0</td>\n",
       "      <td>Peter Jackson</td>\n",
       "      <td>1661481</td>\n",
       "      <td>315544750</td>\n",
       "    </tr>\n",
       "    <tr>\n",
       "      <th>12</th>\n",
       "      <td>Il buono, il brutto, il cattivo</td>\n",
       "      <td>1966</td>\n",
       "      <td>A</td>\n",
       "      <td>161</td>\n",
       "      <td>Western</td>\n",
       "      <td>8.8</td>\n",
       "      <td>90.0</td>\n",
       "      <td>Sergio Leone</td>\n",
       "      <td>688390</td>\n",
       "      <td>6100000</td>\n",
       "    </tr>\n",
       "  </tbody>\n",
       "</table>\n",
       "</div>"
      ],
      "text/plain": [
       "                                         Series_Title  Released_Year  \\\n",
       "0                            The Shawshank Redemption           1994   \n",
       "1                                       The Godfather           1972   \n",
       "2                                     The Dark Knight           2008   \n",
       "3                              The Godfather: Part II           1974   \n",
       "4                                        12 Angry Men           1957   \n",
       "5       The Lord of the Rings: The Return of the King           2003   \n",
       "6                                        Pulp Fiction           1994   \n",
       "7                                    Schindler's List           1993   \n",
       "10  The Lord of the Rings: The Fellowship of the Ring           2001   \n",
       "12                    Il buono, il brutto, il cattivo           1966   \n",
       "\n",
       "   Certificate  Runtime                      Genre  IMDB_Rating  Meta_score  \\\n",
       "0            A      142                      Drama          9.3        80.0   \n",
       "1            A      175               Crime, Drama          9.2       100.0   \n",
       "2           UA      152       Action, Crime, Drama          9.0        84.0   \n",
       "3            A      202               Crime, Drama          9.0        90.0   \n",
       "4            U       96               Crime, Drama          9.0        96.0   \n",
       "5            U      201   Action, Adventure, Drama          8.9        94.0   \n",
       "6            A      154               Crime, Drama          8.9        94.0   \n",
       "7            A      195  Biography, Drama, History          8.9        94.0   \n",
       "10           U      178   Action, Adventure, Drama          8.8        92.0   \n",
       "12           A      161                    Western          8.8        90.0   \n",
       "\n",
       "                Director  No_of_Votes      Gross  \n",
       "0         Frank Darabont      2343110   28341469  \n",
       "1   Francis Ford Coppola      1620367  134966411  \n",
       "2      Christopher Nolan      2303232  534858444  \n",
       "3   Francis Ford Coppola      1129952   57300000  \n",
       "4           Sidney Lumet       689845    4360000  \n",
       "5          Peter Jackson      1642758  377845905  \n",
       "6      Quentin Tarantino      1826188  107928762  \n",
       "7       Steven Spielberg      1213505   96898818  \n",
       "10         Peter Jackson      1661481  315544750  \n",
       "12          Sergio Leone       688390    6100000  "
      ]
     },
     "execution_count": 184,
     "metadata": {},
     "output_type": "execute_result"
    }
   ],
   "source": [
    "sorted_df = df.sort_values(by='IMDB_Rating',ascending=False) \n",
    "t=sorted_df.iloc[:10,:]\n",
    "t"
   ]
  },
  {
   "cell_type": "code",
   "execution_count": 201,
   "id": "f3f7487a-8be2-415a-b4f4-316b492de291",
   "metadata": {},
   "outputs": [
    {
     "data": {
      "text/plain": [
       "Text(0, 0.5, 'Movie')"
      ]
     },
     "execution_count": 201,
     "metadata": {},
     "output_type": "execute_result"
    },
    {
     "data": {
      "image/png": "[encoded data removed]",
      "text/plain": [
       "<Figure size 1600x1000 with 1 Axes>"
      ]
     },
     "metadata": {},
     "output_type": "display_data"
    }
   ],
   "source": [
    "plt.figure(figsize=(16,10))\n",
    "sns.barplot(x=t['IMDB_Rating'],y='Series_Title',data=t)\n",
    "plt.xlabel('IMDB Rating')\n",
    "plt.ylabel('Movie')"
   ]
  },
  {
   "cell_type": "markdown",
   "id": "c657c533-c3d3-4770-bcb6-1b2bd1c388a4",
   "metadata": {},
   "source": [
    "<h4 style=\"font-weight:300;font-size:21px;\"><i>\n",
    "   \r\n",
    "This code creates a bar plot using Seaborn (sns.barplot) to visualize the IMDB ratings of the top 10 movies in the DataFrame t. The x-axis represents the IMDB ratings of the movies, while the y-axis represents the movie titles ('Series_Title').\n",
    "</i></h4>"
   ]
  },
  {
   "cell_type": "code",
   "execution_count": 189,
   "id": "f018de22-d094-48f6-a797-251f07eb8822",
   "metadata": {},
   "outputs": [
    {
     "data": {
      "text/plain": [
       "<Axes: xlabel='Gross', ylabel='Series_Title'>"
      ]
     },
     "execution_count": 189,
     "metadata": {},
     "output_type": "execute_result"
    },
    {
     "data": {
      "image/png": "[encoded data removed]",
      "text/plain": [
       "<Figure size 1600x1000 with 1 Axes>"
      ]
     },
     "metadata": {},
     "output_type": "display_data"
    }
   ],
   "source": [
    "plt.figure(figsize=(16,10))\n",
    "sns.barplot(x=t['Gross'],y='Series_Title',data=t)\n"
   ]
  },
  {
   "cell_type": "markdown",
   "id": "30d8b370-1f63-4f70-8d4e-90b86b71e799",
   "metadata": {},
   "source": [
    "<h4 style=\"font-weight:300;font-size:21px;\"><i>\n",
    "    The plot illustrates the gross earnings of various movies in a horizontal bar format. Each bar represents a movie, with its length indicating the gross earnings. The longer the bar, the higher the gross earnings of the corresponding movie. The y-axis represents the movie titles, while the x-axis represents the gross earnings. This visualization facilitates a straightforward comparison of the earnings across different movies.\n",
    "</i></h4>"
   ]
  },
  {
   "cell_type": "code",
   "execution_count": 200,
   "id": "dadc19de-e5aa-4fc9-838e-628ab4ab2b1a",
   "metadata": {},
   "outputs": [
    {
     "data": {
      "text/plain": [
       "<Axes: xlabel='Certificate', ylabel='No_of_Votes'>"
      ]
     },
     "execution_count": 200,
     "metadata": {},
     "output_type": "execute_result"
    },
    {
     "data": {
      "image/png": "[encoded data removed]",
      "text/plain": [
       "<Figure size 640x480 with 1 Axes>"
      ]
     },
     "metadata": {},
     "output_type": "display_data"
    }
   ],
   "source": [
    "g=df.groupby(['Certificate'],as_index=False)[\"No_of_Votes\"].mean().sort_values(by='No_of_Votes',ascending=False)\n",
    "sns.barplot(data=g,x='Certificate',y='No_of_Votes')"
   ]
  },
  {
   "cell_type": "markdown",
   "id": "d1951567-28eb-4cad-a587-a230ea092056",
   "metadata": {},
   "source": [
    "<h4 style=\"font-weight:300;font-size:21px;\"><i>\n",
    "    The provided code computes the total number of votes for each movie certificate category by grouping the DataFrame df by the 'Certificate' column and summing the 'No_of_Votes' column within each group. The results are then sorted in descending order based on the total number of votes.\n",
    "\n",
    "\n",
    "Subsequently, Seaborn's barplot function is utilized to generate a bar plot displaying the total number of votes for each movie certificate category. The x-axis represents the total number of votes, while the y-axis represents the movie certificate categories.\n",
    "</i></h4>"
   ]
  }
 ],
 "metadata": {
  "kernelspec": {
   "display_name": "Python 3 (ipykernel)",
   "language": "python",
   "name": "python3"
  },
  "language_info": {
   "codemirror_mode": {
    "name": "ipython",
    "version": 3
   },
   "file_extension": ".py",
   "mimetype": "text/x-python",
   "name": "python",
   "nbconvert_exporter": "python",
   "pygments_lexer": "ipython3",
   "version": "3.11.7"
  }
 },
 "nbformat": 4,
 "nbformat_minor": 5
}
